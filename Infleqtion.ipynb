{
 "cells": [
  {
   "cell_type": "code",
   "execution_count": 1,
   "id": "d0ab021f-c5b0-4354-9c9e-e88d4d8ae4a2",
   "metadata": {
    "tags": []
   },
   "outputs": [
    {
     "name": "stdout",
     "output_type": "stream",
     "text": [
      "Requirement already satisfied: qiskit_aer in /opt/conda/lib/python3.10/site-packages (0.13.3)\n",
      "Requirement already satisfied: qiskit>=0.45.0 in /opt/conda/lib/python3.10/site-packages (from qiskit_aer) (1.0.2)\n",
      "Requirement already satisfied: numpy>=1.16.3 in /opt/conda/lib/python3.10/site-packages (from qiskit_aer) (1.23.5)\n",
      "Requirement already satisfied: scipy>=1.0 in /opt/conda/lib/python3.10/site-packages (from qiskit_aer) (1.12.0)\n",
      "Requirement already satisfied: psutil>=5 in /opt/conda/lib/python3.10/site-packages (from qiskit_aer) (5.9.4)\n",
      "Requirement already satisfied: rustworkx>=0.14.0 in /opt/conda/lib/python3.10/site-packages (from qiskit>=0.45.0->qiskit_aer) (0.14.0)\n",
      "Requirement already satisfied: sympy>=1.3 in /opt/conda/lib/python3.10/site-packages (from qiskit>=0.45.0->qiskit_aer) (1.11.1)\n",
      "Requirement already satisfied: dill>=0.3 in /opt/conda/lib/python3.10/site-packages (from qiskit>=0.45.0->qiskit_aer) (0.3.6)\n",
      "Requirement already satisfied: python-dateutil>=2.8.0 in /opt/conda/lib/python3.10/site-packages (from qiskit>=0.45.0->qiskit_aer) (2.8.2)\n",
      "Requirement already satisfied: stevedore>=3.0.0 in /opt/conda/lib/python3.10/site-packages (from qiskit>=0.45.0->qiskit_aer) (5.1.0)\n",
      "Requirement already satisfied: typing-extensions in /opt/conda/lib/python3.10/site-packages (from qiskit>=0.45.0->qiskit_aer) (4.9.0)\n",
      "Requirement already satisfied: symengine>=0.11 in /opt/conda/lib/python3.10/site-packages (from qiskit>=0.45.0->qiskit_aer) (0.11.0)\n",
      "Requirement already satisfied: six>=1.5 in /opt/conda/lib/python3.10/site-packages (from python-dateutil>=2.8.0->qiskit>=0.45.0->qiskit_aer) (1.16.0)\n",
      "Requirement already satisfied: pbr!=2.1.0,>=2.0.0 in /opt/conda/lib/python3.10/site-packages (from stevedore>=3.0.0->qiskit>=0.45.0->qiskit_aer) (6.0.0)\n",
      "Requirement already satisfied: mpmath>=0.19 in /opt/conda/lib/python3.10/site-packages (from sympy>=1.3->qiskit>=0.45.0->qiskit_aer) (1.2.1)\n",
      "Note: you may need to restart the kernel to use updated packages.\n"
     ]
    }
   ],
   "source": [
    "pip install qiskit_aer\n"
   ]
  },
  {
   "cell_type": "code",
   "execution_count": 2,
   "id": "8e25b93b-96e8-4cdd-af21-5869b6324999",
   "metadata": {},
   "outputs": [
    {
     "name": "stdout",
     "output_type": "stream",
     "text": [
      "Traceback \u001b[1;36m(most recent call last)\u001b[0m:\n",
      "\u001b[1;36m  Cell \u001b[1;32mIn[2], line 8\u001b[1;36m\n",
      "\u001b[1;33m    from qiskit.algorithms.optimizers import SPSA, SLSQP, COBYLA\u001b[1;36m\n",
      "\u001b[1;31mModuleNotFoundError\u001b[0m\u001b[1;31m:\u001b[0m No module named 'qiskit.algorithms'\n",
      "\n",
      "Use %tb to get the full traceback.\n"
     ]
    },
    {
     "data": {
      "text/html": [
       "\n",
       "<style>\n",
       ".button {\n",
       "  border: none;\n",
       "  color: white;\n",
       "  padding: 4px 8px;\n",
       "  text-align: center;\n",
       "  text-decoration: none;\n",
       "  display: inline-block;\n",
       "  font-size: 12px;\n",
       "  margin: 4px 2px;\n",
       "  transition-duration: 0.2s;\n",
       "  cursor: pointer;\n",
       "}\n",
       ".iqx-button {\n",
       "  background-color: #0f62fe; \n",
       "  color: white; \n",
       "}\n",
       ".iqx-button:hover {\n",
       "  background-color: #0043ce;\n",
       "  color: white;\n",
       "}\n",
       "</style>\n",
       "<a href=\"https://stackoverflow.com/search?q=ModuleNotFoundError: No module named 'qiskit.algorithms'\" target='_blank'><button class='button iqx-button'>Search for solution online</button></a>\n"
      ],
      "text/plain": [
       "<IPython.core.display.HTML object>"
      ]
     },
     "metadata": {},
     "output_type": "display_data"
    }
   ],
   "source": [
    "import numpy as np\n",
    "import qiskit\n",
    "from qiskit_aer import AerSimulator\n",
    "from qiskit import QuantumCircuit\n",
    "from qiskit.circuit import Parameter\n",
    "from qiskit.visualization import plot_histogram\n",
    "from qiskit import transpile\n",
    "from qiskit.algorithms.optimizers import SPSA, SLSQP, COBYLA\n"
   ]
  },
  {
   "cell_type": "code",
   "execution_count": 17,
   "id": "bf3d342f-9804-4b46-9447-a6ecb3419a44",
   "metadata": {
    "tags": []
   },
   "outputs": [],
   "source": [
    "                    \n",
    "phi = Parameter('φ') # parameter to be adjusted in VQC for sensitivity\n",
    "theta = Parameter('θ') # external parameter to be sensed\n",
    "\n",
    "\n",
    "\n"
   ]
  },
  {
   "cell_type": "code",
   "execution_count": 18,
   "id": "3a72e9e1-0cd3-4331-bba1-0665df15e26c",
   "metadata": {},
   "outputs": [],
   "source": [
    "# function to create quantum circuit\n",
    "def create_circuit(phi_val, theta_val):\n",
    "    qc = QuantumCirciut(3,3)\n",
    "    qc.h(0)\n",
    "    qc.h(1)\n",
    "    qc.h(2)\n",
    "    qc.rx(theta_val, 0) # apply phase shift simulating external parameters\n",
    "    qc.rz(phi_val, 1)\n",
    "    qc.rz(phi_val,2)  # variational part\n",
    "    qc.measure_all()\n",
    "    qc.cx(0,1)\n",
    "    qc.cx(1,2)\n",
    "    qc.cx(0,2)\n",
    "    return qc\n",
    "\n",
    "\n",
    "    \n"
   ]
  },
  {
   "cell_type": "code",
   "execution_count": 19,
   "id": "bc4586ec-1d97-4713-8878-26392660fc60",
   "metadata": {},
   "outputs": [],
   "source": [
    "#Function to execute the circuit and return measurement outcome\n",
    "def measure_phi(theta_val, phi_val):\n",
    "    qc = create_circuit(phi_value, theta_val)\n",
    "    backend = Aer.get_backend('qasm_simulator')\n",
    "    result = transpile(qc,backend,shots = 1024).result()\n",
    "    counts = result.get_counts()\n",
    "    prob_0 = counts.get('theta', 0)/1024 # probability of getting|0>\n",
    "    return prob_0\n"
   ]
  },
  {
   "cell_type": "code",
   "execution_count": 20,
   "id": "bb3205c8-811d-4f3a-8bde-82c7b77c67a1",
   "metadata": {},
   "outputs": [
    {
     "name": "stdout",
     "output_type": "stream",
     "text": [
      "Traceback \u001b[1;36m(most recent call last)\u001b[0m:\n",
      "\u001b[0m  Cell \u001b[0;32mIn[20], line 4\u001b[0m\n",
      "    measurements = [measure_phi(theta_val, phi_val_optimal) for _ in range(9)]\u001b[0m\n",
      "\u001b[1;36m  Cell \u001b[1;32mIn[20], line 4\u001b[1;36m in \u001b[1;35m<listcomp>\u001b[1;36m\n",
      "\u001b[1;33m    measurements = [measure_phi(theta_val, phi_val_optimal) for _ in range(9)]\u001b[1;36m\n",
      "\u001b[1;31mNameError\u001b[0m\u001b[1;31m:\u001b[0m name 'theta_val' is not defined\n",
      "\n",
      "Use %tb to get the full traceback.\n"
     ]
    },
    {
     "data": {
      "text/html": [
       "\n",
       "<style>\n",
       ".button {\n",
       "  border: none;\n",
       "  color: white;\n",
       "  padding: 4px 8px;\n",
       "  text-align: center;\n",
       "  text-decoration: none;\n",
       "  display: inline-block;\n",
       "  font-size: 12px;\n",
       "  margin: 4px 2px;\n",
       "  transition-duration: 0.2s;\n",
       "  cursor: pointer;\n",
       "}\n",
       ".iqx-button {\n",
       "  background-color: #0f62fe; \n",
       "  color: white; \n",
       "}\n",
       ".iqx-button:hover {\n",
       "  background-color: #0043ce;\n",
       "  color: white;\n",
       "}\n",
       "</style>\n",
       "<a href=\"https://stackoverflow.com/search?q=NameError: name 'theta_val' is not defined\" target='_blank'><button class='button iqx-button'>Search for solution online</button></a>\n"
      ],
      "text/plain": [
       "<IPython.core.display.HTML object>"
      ]
     },
     "metadata": {},
     "output_type": "display_data"
    }
   ],
   "source": [
    "#simulate series of measurements of time\n",
    "theta_value = np.pi/4 # external paramter value\n",
    "phi_value_optimal = np.pi/6 # optical value for phi for sensitivity\n",
    "measurements = [measure_phi(theta_val, phi_val_optimal) for _ in range(9)]\n",
    "\n",
    "\n"
   ]
  },
  {
   "cell_type": "code",
   "execution_count": null,
   "id": "e439cdda-468c-4f25-aa09-d0ee016670a2",
   "metadata": {},
   "outputs": [],
   "source": [
    "#calculate Allen deviation\n",
    "def allan_deviation(measurements):\n",
    "    n = len(measurements)\n",
    "    ad = np.sqrt(np.sum(np.diff(measurements)**2) / (2*(n-1)))\n",
    "    return ad\n",
    "\n",
    "ad_value = allan_deviation(measurements)\n",
    "print(f\"Allan Deviation: {ad_value}\")"
   ]
  },
  {
   "cell_type": "markdown",
   "id": "c59af6dc-91b3-421b-b2dd-112df23ed4e3",
   "metadata": {},
   "source": []
  }
 ],
 "metadata": {
  "kernelspec": {
   "display_name": "Qiskit v1.0.2 (ipykernel)",
   "language": "python",
   "name": "python3"
  },
  "language_info": {
   "codemirror_mode": {
    "name": "ipython",
    "version": 3
   },
   "file_extension": ".py",
   "mimetype": "text/x-python",
   "name": "python",
   "nbconvert_exporter": "python",
   "pygments_lexer": "ipython3",
   "version": "3.10.8"
  },
  "widgets": {
   "application/vnd.jupyter.widget-state+json": {
    "state": {},
    "version_major": 2,
    "version_minor": 0
   }
  }
 },
 "nbformat": 4,
 "nbformat_minor": 5
}
